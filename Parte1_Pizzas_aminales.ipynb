{
  "nbformat": 4,
  "nbformat_minor": 0,
  "metadata": {
    "colab": {
      "provenance": []
    },
    "kernelspec": {
      "name": "python3",
      "display_name": "Python 3"
    },
    "language_info": {
      "name": "python"
    }
  },
  "cells": [
    {
      "cell_type": "code",
      "execution_count": 1,
      "metadata": {
        "colab": {
          "base_uri": "https://localhost:8080/"
        },
        "id": "EdxQB4tRXIQs",
        "outputId": "6f44fe3b-691e-404e-8b72-a00c65fe97d6"
      },
      "outputs": [
        {
          "output_type": "stream",
          "name": "stdout",
          "text": [
            "Mis pizzas favoritas son:\n",
            "pepperoni\n",
            "hawaiana\n",
            "marina\n"
          ]
        }
      ],
      "source": [
        "# pizzas\n",
        "# se alamcena los nombres de las pizzas\n",
        "pizzas_favoritas = ['pepperoni', 'hawaiana', 'marina']\n",
        "print(\"Mis pizzas favoritas son:\")\n",
        "for pizza in pizzas_favoritas:\n",
        "    print(pizza)"
      ]
    },
    {
      "cell_type": "code",
      "source": [
        "print(\"\\nOraciones sobre mis pizzas favoritas:\")\n",
        "for pizza in pizzas_favoritas:\n",
        "    print(f\"Me gusta la pizza de {pizza}.\")\n",
        "\n",
        "print(\"\\nMe encanta la pizza de pepperoni porque es un clásico.\")\n",
        "print(\"La pizza hawaiana me gusta por la combinación de sabores salados y dulces.\")\n",
        "print(\"La pizza marina es perfecta para los amantes del marisco.\")\n",
        "print(\"¡Realmente amo la pizza!\")"
      ],
      "metadata": {
        "colab": {
          "base_uri": "https://localhost:8080/"
        },
        "id": "uRNaMzXhXNDS",
        "outputId": "bc227d8a-2905-4fe2-d0db-bcc2f661578c"
      },
      "execution_count": 2,
      "outputs": [
        {
          "output_type": "stream",
          "name": "stdout",
          "text": [
            "\n",
            "Oraciones sobre mis pizzas favoritas:\n",
            "Me gusta la pizza de pepperoni.\n",
            "Me gusta la pizza de hawaiana.\n",
            "Me gusta la pizza de marina.\n",
            "\n",
            "Me encanta la pizza de pepperoni porque es un clásico.\n",
            "La pizza hawaiana me gusta por la combinación de sabores salados y dulces.\n",
            "La pizza marina es perfecta para los amantes del marisco.\n",
            "¡Realmente amo la pizza!\n"
          ]
        }
      ]
    },
    {
      "cell_type": "code",
      "source": [
        "# animales\n",
        "animales = ['perro', 'gato', 'loro']\n",
        "\n",
        "print(\"\\n Animales \")\n",
        "print(\"Algunos animales que me gustan son:\")\n",
        "for animal in animales:\n",
        "    print(animal)"
      ],
      "metadata": {
        "colab": {
          "base_uri": "https://localhost:8080/"
        },
        "id": "iq3Nug9qXO7w",
        "outputId": "5eb4ca7a-610c-481d-f42b-510029f18866"
      },
      "execution_count": 4,
      "outputs": [
        {
          "output_type": "stream",
          "name": "stdout",
          "text": [
            "\n",
            " Animales \n",
            "Algunos animales que me gustan son:\n",
            "perro\n",
            "gato\n",
            "loro\n"
          ]
        }
      ]
    },
    {
      "cell_type": "code",
      "source": [
        "print(\"\\nDeclaraciones sobre cada animal:\")\n",
        "for animal in animales:\n",
        "    print(f\"Un {animal} sería una gran mascota.\")\n",
        "print(\"\\n¡Cualquiera de estos animales sería una excelente mascota!\")"
      ],
      "metadata": {
        "colab": {
          "base_uri": "https://localhost:8080/"
        },
        "id": "Vs3qmh0VXTzP",
        "outputId": "59a9a733-09bd-4d5a-d6d5-69fba6db5e17"
      },
      "execution_count": 5,
      "outputs": [
        {
          "output_type": "stream",
          "name": "stdout",
          "text": [
            "\n",
            "Declaraciones sobre cada animal:\n",
            "Un perro sería una gran mascota.\n",
            "Un gato sería una gran mascota.\n",
            "Un loro sería una gran mascota.\n",
            "\n",
            "¡Cualquiera de estos animales sería una excelente mascota!\n"
          ]
        }
      ]
    }
  ]
}